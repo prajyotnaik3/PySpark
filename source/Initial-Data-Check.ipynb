{
 "cells": [
  {
   "cell_type": "code",
   "execution_count": 2,
   "id": "9b55e35a-21e2-4fac-af98-c40f516e7317",
   "metadata": {},
   "outputs": [],
   "source": [
    "# Import PySpark\n",
    "import findspark\n",
    "findspark.init()\n",
    "findspark.find()\n",
    "from pyspark.sql import SparkSession"
   ]
  },
  {
   "cell_type": "code",
   "execution_count": 3,
   "id": "1c0cd1a5-9016-4cf0-a3ba-6285e86c85bd",
   "metadata": {},
   "outputs": [],
   "source": [
    "#Create SparkSession\n",
    "spark = SparkSession.builder.appName('SalesInventoryApp').getOrCreate()"
   ]
  },
  {
   "cell_type": "code",
   "execution_count": 47,
   "id": "bcf9a14d-0261-4f8a-8069-1b92422a2fe3",
   "metadata": {},
   "outputs": [],
   "source": [
    "#Create schemas\n",
    "products_schema=\"product_id int, product_name string, brand string, category string, price double, release_date date, color string, storage_capacity string, ram string, display_size_in_inches string\"\n",
    "inventory_schema=\"product_id int, outlet_id string, quantity int\"\n",
    "suppliers_schema=\"product_id int, suuplier_id int, supplier_name string, contact_person string, phone string, email string, address string, city string, state string, postal_code integer, country string\"\n",
    "customers_schema=\"customer_id int, first_name string, last_name string, email string, phone string, address string, city string, state string, postal_code int, country string\"\n",
    "sales_transactions_schema=\"transaction_id int, date date, customer_id int, outlet_id string, product_id int, quantity int, total_amount double\"\n",
    "promotions_schema=\"promotion_id int, production_id int, discount string, start_date date, end_date date\""
   ]
  },
  {
   "cell_type": "code",
   "execution_count": 49,
   "id": "b7395388-78ae-43c0-806a-bb18723ca259",
   "metadata": {},
   "outputs": [],
   "source": [
    "# Read Data\n",
    "productsDF = spark.read.format(\"csv\").option(\"header\", True).schema(products_schema).load(\"../data/products.csv\")\n",
    "inventoryDF = spark.read.format(\"csv\").option(\"header\", True).schema(inventory_schema).load(\"../data/inventory.csv\")\n",
    "suppliersDF = spark.read.format(\"csv\").option(\"header\", True).schema(suppliers_schema).load(\"../data/suppliers.csv\")\n",
    "customersDF = spark.read.format(\"csv\").option(\"header\", True).schema(customers_schema).load(\"../data/customers.csv\")\n",
    "salesTransactionsDF = spark.read.format(\"csv\").option(\"header\", True).schema(sales_transactions_schema).load(\"../data/sales_transactions.csv\")\n",
    "promotionsDF = spark.read.format(\"csv\").option(\"header\", True).schema(promotions_schema).load(\"../data/promotions.csv\")"
   ]
  },
  {
   "cell_type": "code",
   "execution_count": null,
   "id": "82fbb4b3-632b-4f31-9fc6-80f8d5e6a299",
   "metadata": {},
   "outputs": [],
   "source": []
  }
 ],
 "metadata": {
  "kernelspec": {
   "display_name": "Python 3 (ipykernel)",
   "language": "python",
   "name": "python3"
  },
  "language_info": {
   "codemirror_mode": {
    "name": "ipython",
    "version": 3
   },
   "file_extension": ".py",
   "mimetype": "text/x-python",
   "name": "python",
   "nbconvert_exporter": "python",
   "pygments_lexer": "ipython3",
   "version": "3.10.10"
  }
 },
 "nbformat": 4,
 "nbformat_minor": 5
}
